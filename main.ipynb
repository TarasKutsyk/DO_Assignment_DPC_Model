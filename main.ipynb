{
 "cells": [
  {
   "cell_type": "markdown",
   "id": "f582768d-a48e-436c-a527-c18ea6fca041",
   "metadata": {},
   "source": [
    "# DPC Location-Allocation Model\n",
    "\n",
    "### Problem Definition\n",
    "\n",
    "This script implements the model for locating Detection and Prevention Centers (DPCs) as described in Section 4.3.2 of the paper \"A survey of healthcare facility location\" by Ahmadi-Javid et al.\n",
    "\n",
    "> **Given**:\n",
    "> * A set of client locations, each with a known population (`wi`).\n",
    "> * A set of candidate locations for opening DPCs.\n",
    "> * A policy decision on the total number of DPCs to open (`p`).\n",
    "> * A viability threshold specifying the minimum number of clients an open DPC must serve (`Wmin`).\n",
    "\n",
    "> **Objective**:\n",
    "> To find the optimal locations for the `p` DPCs and the corresponding allocation of clients to them, such that the **total expected number of participating clients is maximized**.\n",
    "\n",
    "**Unique Characteristics**:\n",
    "\n",
    "The model incorporates two key features of DPCs:\n",
    "1.  **Viability Threshold**: Each opened DPC must attract a minimum number of clients (`Wmin`) to be considered operational.\n",
    "2.  **Elastic Demand**: Client participation is not guaranteed. It is modeled as a function of distance; the further a client is from a DPC, the lower their expected participation (`σij`).\n",
    "\n",
    "---\n",
    "\n",
    "### Mathematical Formulation\n",
    "\n",
    "#### Variables\n",
    "\n",
    "$$\n",
    "x_j = \\begin{cases}\n",
    "1 & \\text{if a DPC is opened at candidate location } j \\\\\n",
    "0 & \\text{otherwise}\n",
    "\\end{cases}\n",
    "$$\n",
    "\n",
    "$$\n",
    "y_{ij} = \\begin{cases}\n",
    "1 & \\text{if client point } i \\text{ is assigned to a DPC at location } j \\\\\n",
    "0 & \\text{otherwise}\n",
    "\\end{cases}\n",
    "$$\n",
    "\n",
    "#### Model\n",
    "\n",
    "$$\n",
    "\\begin{align}\n",
    "\\max \\quad & \\sum_{i \\in I} \\sum_{j \\in J} \\sigma_{ij} y_{ij} \\\\\n",
    "\\text{s.t.} \\quad & \\\\\n",
    "& \\sum_{j \\in J} x_j = p \\\\\n",
    "& \\sum_{j \\in J} y_{ij} \\le 1, \\quad \\forall i \\in I \\\\\n",
    "& \\sum_{i \\in I} \\sigma_{ij} y_{ij} \\ge W_{\\min} x_j, \\quad \\forall j \\in J \\\\\n",
    "& y_{ij} \\le x_j, \\quad \\forall i \\in I, j \\in J \\\\\n",
    "& x_j \\in \\{0, 1\\}, \\quad y_{ij} \\in \\{0, 1\\}\n",
    "\\end{align}\n",
    "$$\n"
   ]
  },
  {
   "cell_type": "markdown",
   "id": "38962ea1-eb4e-49b9-ab0e-06b8fd1c6a6a",
   "metadata": {},
   "source": [
    "## Setup"
   ]
  },
  {
   "cell_type": "code",
   "execution_count": 4,
   "id": "43f7464c-3d19-4bb3-a961-6fceee581eae",
   "metadata": {},
   "outputs": [],
   "source": [
    "# ## 1. Setup and Imports\n",
    "import networkx as nx\n",
    "# import gurobipy as gb\n",
    "import matplotlib.pyplot as plt\n",
    "import math\n",
    "\n",
    "class args:\n",
    "    figsize = (12, 12)"
   ]
  },
  {
   "cell_type": "code",
   "execution_count": 5,
   "id": "e91a622e-0ce1-4855-9a14-e703ab886ecc",
   "metadata": {},
   "outputs": [],
   "source": [
    "# ## 2. Drawing Functions\n",
    "def DrawInitG(client_nodes, candidate_nodes, G):\n",
    "    \"\"\"Draws the initial problem setup.\"\"\"\n",
    "    plt.figure(figsize=args.figsize)\n",
    "    pos = {i: (G.nodes[i]['x'], G.nodes[i]['y']) for i in G.nodes()}\n",
    "    \n",
    "    # Draw client nodes\n",
    "    nx.draw_networkx_nodes(G, pos,\n",
    "                           nodelist=client_nodes.keys(),\n",
    "                           node_shape='s',  # Square for clients\n",
    "                           node_size=500,\n",
    "                           node_color='skyblue',\n",
    "                           label=\"Client Locations\")\n",
    "    \n",
    "    # Draw candidate DPC locations\n",
    "    nx.draw_networkx_nodes(G, pos,\n",
    "                           nodelist=candidate_nodes.keys(),\n",
    "                           node_shape='o',  # Circle for candidates\n",
    "                           node_size=500,\n",
    "                           node_color='lightgreen',\n",
    "                           label=\"Candidate DPC Locations\")\n",
    "\n",
    "    nx.draw_networkx_labels(G, pos, font_color='black', font_size=10)\n",
    "    plt.title(\"Initial Problem Setup\")\n",
    "    plt.axis('off')\n",
    "    plt.show()\n",
    "\n",
    "def DrawSol(client_nodes, candidate_nodes, G, x, y):\n",
    "    \"\"\"Draws the solution.\"\"\"\n",
    "    plt.figure(figsize=args.figsize)\n",
    "    pos = {i: (G.nodes[i]['x'], G.nodes[i]['y']) for i in G.nodes()}\n",
    "\n",
    "    # Get the list of open DPCs from the solution\n",
    "    open_dpcs = [j for j in candidate_nodes if x[j].x > 0.9]\n",
    "    \n",
    "    # Draw client nodes\n",
    "    nx.draw_networkx_nodes(G, pos,\n",
    "                           nodelist=client_nodes.keys(),\n",
    "                           node_shape='s',\n",
    "                           node_size=500,\n",
    "                           node_color='skyblue')\n",
    "\n",
    "    # Draw all candidate DPC locations (closed ones are light)\n",
    "    nx.draw_networkx_nodes(G, pos,\n",
    "                           nodelist=candidate_nodes.keys(),\n",
    "                           node_shape='o',\n",
    "                           node_size=500,\n",
    "                           node_color='lightgray')\n",
    "    \n",
    "    # Highlight the open DPCs\n",
    "    nx.draw_networkx_nodes(G, pos,\n",
    "                           nodelist=open_dpcs,\n",
    "                           node_shape='o',\n",
    "                           node_size=800, # Make them bigger\n",
    "                           node_color='green',\n",
    "                           edgecolors='black')\n",
    "\n",
    "    # Draw assignment edges\n",
    "    assignment_edges = []\n",
    "    for i in client_nodes:\n",
    "        for j in candidate_nodes:\n",
    "            if y[i, j].x > 0.9:\n",
    "                assignment_edges.append((i, j))\n",
    "    \n",
    "    nx.draw_networkx_edges(G, pos,\n",
    "                           edgelist=assignment_edges,\n",
    "                           edge_color='gray',\n",
    "                           style='dashed')\n",
    "    \n",
    "    nx.draw_networkx_labels(G, pos, font_color='black', font_size=10)\n",
    "    plt.title(\"Optimal DPC Locations and Client Assignments\")\n",
    "    plt.axis('off')\n",
    "    plt.show()"
   ]
  },
  {
   "cell_type": "markdown",
   "id": "8aa0367a-b705-4b00-bec5-bd4ab37272aa",
   "metadata": {},
   "source": [
    "## Data generation (Toy model)"
   ]
  },
  {
   "cell_type": "code",
   "execution_count": 6,
   "id": "5db1eda9-37c0-4baa-b2c1-f7e898d4f9fb",
   "metadata": {},
   "outputs": [
    {
     "data": {
      "image/png": "[encoded data removed]",
      "text/plain": [
       "<Figure size 1200x1200 with 1 Axes>"
      ]
     },
     "metadata": {},
     "output_type": "display_data"
    }
   ],
   "source": [
    "# Create a toy problem instance.\n",
    "\n",
    "# We will represent all locations (clients and candidates) in a single graph.\n",
    "# Node attributes will distinguish them.\n",
    "G = nx.Graph()\n",
    "\n",
    "# Define client locations with their coordinates and populations\n",
    "client_nodes = {\n",
    "    1: {'x': 10, 'y': 20, 'pop': 1500},\n",
    "    2: {'x': 15, 'y': 55, 'pop': 800},\n",
    "    3: {'x': 30, 'y': 45, 'pop': 2200},\n",
    "    4: {'x': 50, 'y': 60, 'pop': 1200},\n",
    "    5: {'x': 60, 'y': 25, 'pop': 3100},\n",
    "    6: {'x': 40, 'y': 10, 'pop': 900},\n",
    "}\n",
    "\n",
    "# Define candidate DPC locations with their coordinates\n",
    "candidate_nodes = {\n",
    "    101: {'x': 20, 'y': 35},\n",
    "    102: {'x': 55, 'y': 45},\n",
    "    103: {'x': 35, 'y': 15},\n",
    "}\n",
    "\n",
    "# Add nodes to the graph\n",
    "for node, attr in client_nodes.items():\n",
    "    G.add_node(node, **attr, type='client')\n",
    "for node, attr in candidate_nodes.items():\n",
    "    G.add_node(node, **attr, type='candidate')\n",
    "\n",
    "# Visualize the initial setup\n",
    "DrawInitG(client_nodes, candidate_nodes, G)"
   ]
  },
  {
   "cell_type": "markdown",
   "id": "04ce19cb-1789-458c-aec5-dcae79b4455a",
   "metadata": {},
   "source": [
    "## Model Parameters definition"
   ]
  },
  {
   "cell_type": "code",
   "execution_count": 8,
   "id": "7efc8cf6-d962-44d5-822e-b720e3fbcc34",
   "metadata": {},
   "outputs": [],
   "source": [
    "# Policy parameters\n",
    "p = 2      # Number of DPCs to open\n",
    "Wmin = 2000 # Minimum required clients for a DPC to be viable\n",
    "\n",
    "# Elastic demand parameter\n",
    "max_dist = 40 # Maximum distance a client is willing to travel"
   ]
  },
  {
   "cell_type": "code",
   "execution_count": 9,
   "id": "04a9a543-b0c0-4e52-884c-736d477394a3",
   "metadata": {},
   "outputs": [
    {
     "data": {
      "text/plain": [
       "{(1, 101): 823.959135850502,\n",
       " (1, 102): 0,\n",
       " (1, 103): 543.933841201353,\n",
       " (2, 101): 387.68943743823394,\n",
       " (2, 102): 0,\n",
       " (2, 103): 0,\n",
       " (3, 101): 1422.1825406947978,\n",
       " (3, 102): 825.0,\n",
       " (3, 103): 527.2403041679894,\n",
       " (4, 101): 28.462548614001904,\n",
       " (4, 102): 725.6583509747431,\n",
       " (4, 103): 0,\n",
       " (5, 101): 0,\n",
       " (5, 102): 1502.2965700731565,\n",
       " (5, 103): 1013.2486372353798,\n",
       " (6, 101): 179.64852328880454,\n",
       " (6, 102): 43.225525590310276,\n",
       " (6, 103): 740.9009742330268}"
      ]
     },
     "execution_count": 9,
     "metadata": {},
     "output_type": "execute_result"
    }
   ],
   "source": [
    "# Pre-calculate Elastic Demand (σij)\n",
    "# Function to calculate Euclidean distance\n",
    "def euclidean_dist(p1, p2):\n",
    "    return math.sqrt((p1['x'] - p2['x'])**2 + (p1['y'] - p2['y'])**2)\n",
    "\n",
    "# Calculate sigma values based on a linear decay function\n",
    "sigma = {}\n",
    "for i, i_attr in client_nodes.items():\n",
    "    for j, j_attr in candidate_nodes.items():\n",
    "        dist = euclidean_dist(i_attr, j_attr)\n",
    "        if dist <= max_dist:\n",
    "            # Participation decreases linearly with distance\n",
    "            participation_rate = 1.0 - (dist / max_dist)\n",
    "            sigma[i, j] = i_attr['pop'] * participation_rate\n",
    "        else:\n",
    "            sigma[i, j] = 0\n",
    "\n",
    "sigma"
   ]
  },
  {
   "cell_type": "markdown",
   "id": "914b8ddb-7143-4113-9dd0-d35e25298c65",
   "metadata": {},
   "source": [
    "## Gurobi model definiton"
   ]
  },
  {
   "cell_type": "code",
   "execution_count": 11,
   "id": "e21cf6f2-c184-4294-ad27-333860caac65",
   "metadata": {},
   "outputs": [
    {
     "ename": "NameError",
     "evalue": "name 'gb' is not defined",
     "output_type": "error",
     "traceback": [
      "\u001b[1;31m---------------------------------------------------------------------------\u001b[0m",
      "\u001b[1;31mNameError\u001b[0m                                 Traceback (most recent call last)",
      "Cell \u001b[1;32mIn[11], line 1\u001b[0m\n\u001b[1;32m----> 1\u001b[0m dpc_model \u001b[38;5;241m=\u001b[39m \u001b[43mgb\u001b[49m\u001b[38;5;241m.\u001b[39mModel(\u001b[38;5;124m\"\u001b[39m\u001b[38;5;124mDPC_Location_Model\u001b[39m\u001b[38;5;124m\"\u001b[39m)\n\u001b[0;32m      3\u001b[0m \u001b[38;5;66;03m#  Define Decision Variables\u001b[39;00m\n\u001b[0;32m      4\u001b[0m \n\u001b[0;32m      5\u001b[0m \u001b[38;5;66;03m# x_j = 1 if DPC is opened at location j\u001b[39;00m\n\u001b[0;32m      6\u001b[0m x \u001b[38;5;241m=\u001b[39m dpc_model\u001b[38;5;241m.\u001b[39maddVars(candidate_nodes\u001b[38;5;241m.\u001b[39mkeys(), vtype\u001b[38;5;241m=\u001b[39mgb\u001b[38;5;241m.\u001b[39mGRB\u001b[38;5;241m.\u001b[39mBINARY, name\u001b[38;5;241m=\u001b[39m\u001b[38;5;124m\"\u001b[39m\u001b[38;5;124mx\u001b[39m\u001b[38;5;124m\"\u001b[39m)\n",
      "\u001b[1;31mNameError\u001b[0m: name 'gb' is not defined"
     ]
    }
   ],
   "source": [
    "dpc_model = gb.Model(\"DPC_Location_Model\")\n",
    "\n",
    "#  Define Decision Variables\n",
    "\n",
    "# x_j = 1 if DPC is opened at location j\n",
    "x = dpc_model.addVars(candidate_nodes.keys(), vtype=gb.GRB.BINARY, name=\"x\")\n",
    "\n",
    "# y_ij = 1 if client i is assigned to DPC j\n",
    "y = dpc_model.addVars(sigma.keys(), vtype=gb.GRB.BINARY, name=\"y\")\n",
    "\n",
    "# ---\n",
    "# ### 4.5. Set Objective Function\n",
    "# ---\n",
    "\n",
    "dpc_model.setObjective(y.prod(sigma), sense=gb.GRB.MAXIMIZE)\n",
    "\n",
    "dpc_model.update()\n",
    "dpc_model.write('dpc_model.lp')"
   ]
  },
  {
   "cell_type": "code",
   "execution_count": 12,
   "id": "f6b03b3e-1d76-45d7-9237-f9491a0cef43",
   "metadata": {},
   "outputs": [
    {
     "ename": "NameError",
     "evalue": "name 'dpc_model' is not defined",
     "output_type": "error",
     "traceback": [
      "\u001b[1;31m---------------------------------------------------------------------------\u001b[0m",
      "\u001b[1;31mNameError\u001b[0m                                 Traceback (most recent call last)",
      "Cell \u001b[1;32mIn[12], line 4\u001b[0m\n\u001b[0;32m      1\u001b[0m \u001b[38;5;66;03m# Add Constraints\u001b[39;00m\n\u001b[0;32m      2\u001b[0m \n\u001b[0;32m      3\u001b[0m \u001b[38;5;66;03m# Constraint (51): Open exactly p DPCs\u001b[39;00m\n\u001b[1;32m----> 4\u001b[0m \u001b[43mdpc_model\u001b[49m\u001b[38;5;241m.\u001b[39maddConstr(x\u001b[38;5;241m.\u001b[39msum() \u001b[38;5;241m==\u001b[39m p, name\u001b[38;5;241m=\u001b[39m\u001b[38;5;124m\"\u001b[39m\u001b[38;5;124mnum_dpcs\u001b[39m\u001b[38;5;124m\"\u001b[39m)\n\u001b[0;32m      6\u001b[0m \u001b[38;5;66;03m# Constraint (52): Each client is assigned to at most one DPC\u001b[39;00m\n\u001b[0;32m      7\u001b[0m dpc_model\u001b[38;5;241m.\u001b[39maddConstrs((y\u001b[38;5;241m.\u001b[39msum(i, \u001b[38;5;124m'\u001b[39m\u001b[38;5;124m*\u001b[39m\u001b[38;5;124m'\u001b[39m) \u001b[38;5;241m<\u001b[39m\u001b[38;5;241m=\u001b[39m \u001b[38;5;241m1\u001b[39m \u001b[38;5;28;01mfor\u001b[39;00m i \u001b[38;5;129;01min\u001b[39;00m client_nodes\u001b[38;5;241m.\u001b[39mkeys()), name\u001b[38;5;241m=\u001b[39m\u001b[38;5;124m\"\u001b[39m\u001b[38;5;124massign_client\u001b[39m\u001b[38;5;124m\"\u001b[39m)\n",
      "\u001b[1;31mNameError\u001b[0m: name 'dpc_model' is not defined"
     ]
    }
   ],
   "source": [
    "# Add Constraints\n",
    "\n",
    "# Constraint (51): Open exactly p DPCs\n",
    "dpc_model.addConstr(x.sum() == p, name=\"num_dpcs\")\n",
    "\n",
    "# Constraint (52): Each client is assigned to at most one DPC\n",
    "dpc_model.addConstrs((y.sum(i, '*') <= 1 for i in client_nodes.keys()), name=\"assign_client\")\n",
    "\n",
    "# Constraint (54): Clients can only be assigned to open DPCs (linking constraint)\n",
    "dpc_model.addConstrs((y[i, j] <= x[j] for i, j in sigma.keys()), name=\"link_y_x\")\n",
    "\n",
    "# Constraint (53): Each open DPC must meet the minimum client threshold\n",
    "dpc_model.addConstrs(\n",
    "    (gb.quicksum(sigma[i, j] * y[i, j] for i in client_nodes.keys()) >= Wmin * x[j]\n",
    "     for j in candidate_nodes.keys()), name=\"viability\")\n",
    "\n",
    "dpc_model.update()\n",
    "dpc_model.write('dpc_model.lp') # Save the model formulation for inspection"
   ]
  },
  {
   "cell_type": "code",
   "execution_count": 13,
   "id": "73ccfec9-539a-4995-a2c1-4cfd3765efd7",
   "metadata": {},
   "outputs": [
    {
     "ename": "NameError",
     "evalue": "name 'dpc_model' is not defined",
     "output_type": "error",
     "traceback": [
      "\u001b[1;31m---------------------------------------------------------------------------\u001b[0m",
      "\u001b[1;31mNameError\u001b[0m                                 Traceback (most recent call last)",
      "Cell \u001b[1;32mIn[13], line 2\u001b[0m\n\u001b[0;32m      1\u001b[0m \u001b[38;5;66;03m# Solve the Model and Display Results\u001b[39;00m\n\u001b[1;32m----> 2\u001b[0m \u001b[43mdpc_model\u001b[49m\u001b[38;5;241m.\u001b[39moptimize()\n",
      "\u001b[1;31mNameError\u001b[0m: name 'dpc_model' is not defined"
     ]
    }
   ],
   "source": [
    "# Solve the Model and Display Results\n",
    "dpc_model.optimize()"
   ]
  },
  {
   "cell_type": "code",
   "execution_count": 14,
   "id": "69368636-19a8-4347-a329-a9f90e46ba43",
   "metadata": {},
   "outputs": [
    {
     "ename": "NameError",
     "evalue": "name 'dpc_model' is not defined",
     "output_type": "error",
     "traceback": [
      "\u001b[1;31m---------------------------------------------------------------------------\u001b[0m",
      "\u001b[1;31mNameError\u001b[0m                                 Traceback (most recent call last)",
      "Cell \u001b[1;32mIn[14], line 3\u001b[0m\n\u001b[0;32m      1\u001b[0m \u001b[38;5;66;03m# Print and Visualize Solution\u001b[39;00m\n\u001b[1;32m----> 3\u001b[0m \u001b[38;5;28;01mif\u001b[39;00m \u001b[43mdpc_model\u001b[49m\u001b[38;5;241m.\u001b[39mstatus \u001b[38;5;241m==\u001b[39m gb\u001b[38;5;241m.\u001b[39mGRB\u001b[38;5;241m.\u001b[39mOPTIMAL:\n\u001b[0;32m      4\u001b[0m     \u001b[38;5;28mprint\u001b[39m(\u001b[38;5;124mf\u001b[39m\u001b[38;5;124m\"\u001b[39m\u001b[38;5;130;01m\\n\u001b[39;00m\u001b[38;5;124mOptimal Objective (Total Expected Clients): \u001b[39m\u001b[38;5;132;01m{\u001b[39;00mdpc_model\u001b[38;5;241m.\u001b[39mobjVal\u001b[38;5;132;01m:\u001b[39;00m\u001b[38;5;124m.2f\u001b[39m\u001b[38;5;132;01m}\u001b[39;00m\u001b[38;5;130;01m\\n\u001b[39;00m\u001b[38;5;124m\"\u001b[39m)\n\u001b[0;32m      6\u001b[0m     \u001b[38;5;28mprint\u001b[39m(\u001b[38;5;124m\"\u001b[39m\u001b[38;5;124mOptimal DPC Locations:\u001b[39m\u001b[38;5;124m\"\u001b[39m)\n",
      "\u001b[1;31mNameError\u001b[0m: name 'dpc_model' is not defined"
     ]
    }
   ],
   "source": [
    "# Print and Visualize Solution\n",
    "\n",
    "if dpc_model.status == gb.GRB.OPTIMAL:\n",
    "    print(f\"\\nOptimal Objective (Total Expected Clients): {dpc_model.objVal:.2f}\\n\")\n",
    "    \n",
    "    print(\"Optimal DPC Locations:\")\n",
    "    for j in candidate_nodes:\n",
    "        if x[j].x > 0.5:\n",
    "            print(f\" -> DPC at location {j} is OPENED.\")\n",
    "            \n",
    "    print(\"\\nClient Assignments:\")\n",
    "    for i in client_nodes:\n",
    "        for j in candidate_nodes:\n",
    "            if y[i, j].x > 0.5:\n",
    "                print(f\" -> Client {i} is assigned to DPC {j}.\")\n",
    "                \n",
    "    # Draw the solution graph\n",
    "    DrawSol(client_nodes, candidate_nodes, G, x, y)\n",
    "    \n",
    "elif dpc_model.status == gb.GRB.INFEASIBLE:\n",
    "    print(\"The model is infeasible. This could be because the viability constraint (Wmin) is too high or the number of DPCs (p) is too low.\")\n",
    "else:\n",
    "    print(f\"Optimization finished with status: {dpc_model.status}\")"
   ]
  },
  {
   "cell_type": "code",
   "execution_count": null,
   "id": "6e065a5c-01b6-4f77-a210-928dc5c68ec5",
   "metadata": {},
   "outputs": [],
   "source": []
  }
 ],
 "metadata": {
  "kernelspec": {
   "display_name": "Python 3 (ipykernel)",
   "language": "python",
   "name": "python3"
  },
  "language_info": {
   "codemirror_mode": {
    "name": "ipython",
    "version": 3
   },
   "file_extension": ".py",
   "mimetype": "text/x-python",
   "name": "python",
   "nbconvert_exporter": "python",
   "pygments_lexer": "ipython3",
   "version": "3.12.8"
  }
 },
 "nbformat": 4,
 "nbformat_minor": 5
}
